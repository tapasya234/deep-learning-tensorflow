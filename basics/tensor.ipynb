{
 "cells": [
  {
   "cell_type": "code",
   "execution_count": 2,
   "id": "92371d9f",
   "metadata": {},
   "outputs": [],
   "source": [
    "import tensorflow as tf\n",
    "import numpy as np\n",
    "import matplotlib.pyplot as plt\n",
    "import random"
   ]
  },
  {
   "cell_type": "code",
   "execution_count": 3,
   "id": "7ac2ce96",
   "metadata": {},
   "outputs": [],
   "source": [
    "# Set SEED Values\n",
    "SEED = 42\n",
    "\n",
    "random.seed(SEED)\n",
    "tf.random.set_seed(SEED)\n",
    "np.random.seed(SEED)"
   ]
  },
  {
   "cell_type": "code",
   "execution_count": 5,
   "id": "1006b4b4",
   "metadata": {},
   "outputs": [
    {
     "name": "stdout",
     "output_type": "stream",
     "text": [
      "tf.Tensor(3, shape=(), dtype=int32)\n",
      "tf.Tensor(3.1415927, shape=(), dtype=float32)\n",
      "tf.Tensor(3.141592654, shape=(), dtype=float64)\n",
      "tf.Tensor([2. 3. 4.], shape=(3,), dtype=float32)\n"
     ]
    }
   ],
   "source": [
    "# Tensorflow Constants\n",
    "rank_0_tensor = tf.constant(3)\n",
    "print(rank_0_tensor)\n",
    "\n",
    "rank_0_tensor = tf.constant(3.141592654)\n",
    "print(rank_0_tensor)\n",
    "\n",
    "rank_0_tensor = tf.constant(3.141592654, dtype=tf.float64)\n",
    "print(rank_0_tensor)\n",
    "\n",
    "rank_1_tensor = tf.constant([2.0,3.0,4.0])\n",
    "print(rank_1_tensor)"
   ]
  },
  {
   "cell_type": "markdown",
   "id": "886ab176",
   "metadata": {},
   "source": [
    "### Tensor Terminology\n",
    "1. Shape: The length of each of the axes in a tensor\n",
    "1. Rank: The number of tensor axes. A scalar has rank 0, vector has rank 1 \n",
    "    and matrix has rank 2.\n",
    "1. Axis or Dimension: The dimension of a tensor\n",
    "1. Size: The total number of items in a tensor, the product of the shape vector's element. "
   ]
  },
  {
   "cell_type": "code",
   "execution_count": 7,
   "id": "129e64ab",
   "metadata": {},
   "outputs": [
    {
     "name": "stdout",
     "output_type": "stream",
     "text": [
      "tf.Tensor(\n",
      "[[1 2 3]\n",
      " [4 5 6]], shape=(2, 3), dtype=int32)\n",
      "tf.Tensor(\n",
      "[[ 7  8  9]\n",
      " [10 11 12]], shape=(2, 3), dtype=int32)\n",
      "Concat along axis=0\n",
      "\n",
      "tf.Tensor(\n",
      "[[ 1  2  3]\n",
      " [ 4  5  6]\n",
      " [ 7  8  9]\n",
      " [10 11 12]], shape=(4, 3), dtype=int32)\n",
      "\n",
      "Concat along axis=1\n",
      "\n",
      "tf.Tensor(\n",
      "[[ 1  2  3  7  8  9]\n",
      " [ 4  5  6 10 11 12]], shape=(2, 6), dtype=int32)\n"
     ]
    }
   ],
   "source": [
    "# Concatenation in Tensor is similar to NumPy\n",
    "t1 = tf.constant([[1,2,3],[4,5,6]])\n",
    "t2 = tf.constant([[7,8,9],[10,11,12]])\n",
    "\n",
    "print(t1)\n",
    "print(t2)\n",
    "print(\"Concat along axis=0\\n\")\n",
    "print(tf.concat([t1,t2],axis=0))\n",
    "print(\"\\nConcat along axis=1\\n\")\n",
    "print(tf.concat([t1,t2], axis=1))"
   ]
  },
  {
   "cell_type": "markdown",
   "id": "32625063",
   "metadata": {},
   "source": [
    "### TensorFlow Variables\n",
    "Variables in tensorflow can only be asigned using the `assign()`, they can't be assigned using the `=` operator."
   ]
  },
  {
   "cell_type": "code",
   "execution_count": 10,
   "id": "82bfe5d3",
   "metadata": {},
   "outputs": [
    {
     "name": "stdout",
     "output_type": "stream",
     "text": [
      "Original:  <tf.Variable 'Variable:0' shape=(2,) dtype=int32, numpy=array([2, 4], dtype=int32)>\n",
      "\n",
      "TensorFlow variable can't be assigned using `=`.\n"
     ]
    }
   ],
   "source": [
    "tensor = tf.Variable([2,4])\n",
    "print(\"Original: \", tensor)\n",
    "\n",
    "try:\n",
    "    tensor[0] = 123\n",
    "    print(\"Updated tensor using `=`: \", tensor)\n",
    "except TypeError:\n",
    "    print(\"\\nTensorFlow variable can't be assigned using `=`.\")\n"
   ]
  },
  {
   "cell_type": "code",
   "execution_count": 11,
   "id": "f58c2687",
   "metadata": {},
   "outputs": [
    {
     "name": "stdout",
     "output_type": "stream",
     "text": [
      "Updated:  <tf.Variable 'Variable:0' shape=(2,) dtype=int32, numpy=array([132,   4], dtype=int32)>\n"
     ]
    }
   ],
   "source": [
    "tensor[0].assign(132)\n",
    "print(\"Updated: \", tensor)"
   ]
  },
  {
   "cell_type": "code",
   "execution_count": null,
   "id": "727dcb32",
   "metadata": {},
   "outputs": [],
   "source": []
  }
 ],
 "metadata": {
  "kernelspec": {
   "display_name": ".tkVenv (3.12.10)",
   "language": "python",
   "name": "python3"
  },
  "language_info": {
   "codemirror_mode": {
    "name": "ipython",
    "version": 3
   },
   "file_extension": ".py",
   "mimetype": "text/x-python",
   "name": "python",
   "nbconvert_exporter": "python",
   "pygments_lexer": "ipython3",
   "version": "3.12.10"
  }
 },
 "nbformat": 4,
 "nbformat_minor": 5
}
