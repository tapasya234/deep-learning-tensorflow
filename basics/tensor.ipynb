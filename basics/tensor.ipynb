{
 "cells": [
  {
   "cell_type": "code",
   "execution_count": 2,
   "id": "92371d9f",
   "metadata": {},
   "outputs": [],
   "source": [
    "import tensorflow as tf\n",
    "import numpy as np\n",
    "import matplotlib.pyplot as plt\n",
    "import random"
   ]
  },
  {
   "cell_type": "code",
   "execution_count": 3,
   "id": "7ac2ce96",
   "metadata": {},
   "outputs": [],
   "source": [
    "# Set SEED Values\n",
    "SEED = 42\n",
    "\n",
    "random.seed(SEED)\n",
    "tf.random.set_seed(SEED)\n",
    "np.random.seed(SEED)"
   ]
  },
  {
   "cell_type": "code",
   "execution_count": 4,
   "id": "1006b4b4",
   "metadata": {},
   "outputs": [
    {
     "name": "stdout",
     "output_type": "stream",
     "text": [
      "tf.Tensor(3, shape=(), dtype=int32)\n",
      "tf.Tensor(3.1415927, shape=(), dtype=float32)\n",
      "tf.Tensor(3.141592654, shape=(), dtype=float64)\n",
      "tf.Tensor([2. 3. 4.], shape=(3,), dtype=float32)\n"
     ]
    }
   ],
   "source": [
    "# Tensorflow Constants\n",
    "rank_0_tensor = tf.constant(3)\n",
    "print(rank_0_tensor)\n",
    "\n",
    "rank_0_tensor = tf.constant(3.141592654)\n",
    "print(rank_0_tensor)\n",
    "\n",
    "rank_0_tensor = tf.constant(3.141592654, dtype=tf.float64)\n",
    "print(rank_0_tensor)\n",
    "\n",
    "rank_1_tensor = tf.constant([2.0,3.0,4.0])\n",
    "print(rank_1_tensor)"
   ]
  },
  {
   "cell_type": "markdown",
   "id": "886ab176",
   "metadata": {},
   "source": [
    "### Tensor Terminology\n",
    "1. Shape: The length of each of the axes in a tensor\n",
    "1. Rank: The number of tensor axes. A scalar has rank 0, vector has rank 1 \n",
    "    and matrix has rank 2.\n",
    "1. Axis or Dimension: The dimension of a tensor\n",
    "1. Size: The total number of items in a tensor, the product of the shape vector's element. "
   ]
  },
  {
   "cell_type": "code",
   "execution_count": 5,
   "id": "129e64ab",
   "metadata": {},
   "outputs": [
    {
     "name": "stdout",
     "output_type": "stream",
     "text": [
      "tf.Tensor(\n",
      "[[1 2 3]\n",
      " [4 5 6]], shape=(2, 3), dtype=int32)\n",
      "tf.Tensor(\n",
      "[[ 7  8  9]\n",
      " [10 11 12]], shape=(2, 3), dtype=int32)\n",
      "Concat along axis=0\n",
      "\n",
      "tf.Tensor(\n",
      "[[ 1  2  3]\n",
      " [ 4  5  6]\n",
      " [ 7  8  9]\n",
      " [10 11 12]], shape=(4, 3), dtype=int32)\n",
      "\n",
      "Concat along axis=1\n",
      "\n",
      "tf.Tensor(\n",
      "[[ 1  2  3  7  8  9]\n",
      " [ 4  5  6 10 11 12]], shape=(2, 6), dtype=int32)\n"
     ]
    }
   ],
   "source": [
    "# Concatenation in Tensor is similar to NumPy\n",
    "t1 = tf.constant([[1,2,3],[4,5,6]])\n",
    "t2 = tf.constant([[7,8,9],[10,11,12]])\n",
    "\n",
    "print(t1)\n",
    "print(t2)\n",
    "print(\"Concat along axis=0\\n\")\n",
    "print(tf.concat([t1,t2],axis=0))\n",
    "print(\"\\nConcat along axis=1\\n\")\n",
    "print(tf.concat([t1,t2], axis=1))"
   ]
  },
  {
   "cell_type": "markdown",
   "id": "32625063",
   "metadata": {},
   "source": [
    "### TensorFlow Variables\n",
    "Variables in tensorflow can only be asigned using the `assign()`, they can't be assigned using the `=` operator."
   ]
  },
  {
   "cell_type": "code",
   "execution_count": 6,
   "id": "82bfe5d3",
   "metadata": {},
   "outputs": [
    {
     "name": "stdout",
     "output_type": "stream",
     "text": [
      "Original:  <tf.Variable 'Variable:0' shape=(2,) dtype=int32, numpy=array([2, 4], dtype=int32)>\n",
      "\n",
      "TensorFlow variable can't be assigned using `=`.\n",
      "Updated:  <tf.Variable 'Variable:0' shape=(2,) dtype=int32, numpy=array([132,   4], dtype=int32)>\n"
     ]
    }
   ],
   "source": [
    "tensor = tf.Variable([2,4])\n",
    "print(\"Original: \", tensor)\n",
    "\n",
    "try:\n",
    "    tensor[0] = 123\n",
    "    print(\"Updated tensor using `=`: \", tensor)\n",
    "except TypeError:\n",
    "    print(\"\\nTensorFlow variable can't be assigned using `=`.\")\n",
    "\n",
    "try:\n",
    "    tensor[0].assign(132)\n",
    "    print(\"Updated: \", tensor)\n",
    "except TypeError:\n",
    "    print(\"\\nTernsorFlow variable can't be assigned using `assign()`\")\n"
   ]
  },
  {
   "cell_type": "markdown",
   "id": "c2a9eb64",
   "metadata": {},
   "source": [
    "### TensorFlow Reduce Functions\n",
    "\n",
    "TF has a class of functions that are different from `NumPy` by starting with the `reduce_` like `reduce_sum()`, `reduce_min()`. \n",
    "This notation stems from the fact that these functions can compute a given quantity along any given axis of a tensor. \n",
    "If the axis is not specified, then the quantity is computed across all axes."
   ]
  },
  {
   "cell_type": "code",
   "execution_count": 7,
   "id": "f58c2687",
   "metadata": {},
   "outputs": [
    {
     "name": "stdout",
     "output_type": "stream",
     "text": [
      "tf.Tensor(\n",
      "[[0.6645621  0.44100678 0.3528825  0.46448255 0.03366041]\n",
      " [0.68467236 0.74011743 0.8724445  0.22632635 0.22319686]\n",
      " [0.3103881  0.7223358  0.13318717 0.5480639  0.5746088 ]], shape=(3, 5), dtype=float32)\n",
      "\n",
      "Compute over all axes\n",
      "Min:  tf.Tensor(0.03366041, shape=(), dtype=float32)\n",
      "Max:  tf.Tensor(0.8724445, shape=(), dtype=float32)\n",
      "Sum:  tf.Tensor(6.9919353, shape=(), dtype=float32)\n",
      "Mean:  tf.Tensor(0.466129, shape=(), dtype=float32)\n",
      "\n",
      "Compute for specific axis\n",
      "Min:  tf.Tensor([0.03366041 0.22319686 0.13318717], shape=(3,), dtype=float32)\n",
      "Max:  tf.Tensor([0.68467236 0.74011743 0.8724445  0.5480639  0.5746088 ], shape=(5,), dtype=float32)\n",
      "Sum:  tf.Tensor([1.6596226 1.90346   1.3585142 1.2388728 0.8314661], shape=(5,), dtype=float32)\n",
      "Mean:  tf.Tensor([0.39131886 0.5493515  0.45771676], shape=(3,), dtype=float32)\n"
     ]
    }
   ],
   "source": [
    "x = tf.random.uniform(shape=[3,5])\n",
    "print(x)\n",
    "\n",
    "print(\"\\nCompute over all axes\")\n",
    "print(\"Min: \", tf.reduce_min(x))\n",
    "print(\"Max: \", tf.reduce_max(x))\n",
    "print(\"Sum: \", tf.reduce_sum(x))\n",
    "print(\"Mean: \", tf.reduce_mean(x))\n",
    "\n",
    "print(\"\\nCompute for specific axis\")\n",
    "print(\"Min: \", tf.reduce_min(x, axis=1))\n",
    "print(\"Max: \", tf.reduce_max(x, axis=0))\n",
    "print(\"Sum: \", tf.reduce_sum(x, axis=0))\n",
    "print(\"Mean: \", tf.reduce_mean(x, axis=1))"
   ]
  },
  {
   "cell_type": "markdown",
   "id": "ceec3fcf",
   "metadata": {},
   "source": [
    "### TensorFlow Indexing\n",
    "\n",
    "In TF, data at non-consecutive indices is only achieved using the `gather()`."
   ]
  },
  {
   "cell_type": "code",
   "execution_count": 8,
   "id": "727dcb32",
   "metadata": {},
   "outputs": [
    {
     "name": "stdout",
     "output_type": "stream",
     "text": [
      "Data: \n",
      "[3.74540119 9.50714306 7.31993942 5.98658484 1.5601864  1.5599452\n",
      " 0.58083612 8.66176146 6.01115012 7.08072578 0.20584494 9.69909852\n",
      " 8.32442641 2.12339111 1.81824967 1.8340451  3.04242243 5.24756432\n",
      " 4.31945019 2.9122914  6.11852895 1.39493861 2.92144649 3.66361843]\n",
      "\n",
      "Indices: \n",
      "[ 0  5 20 15 13]\n",
      "\n",
      "Selected Data: \n",
      "[3.74540119 1.5599452  6.11852895 1.8340451  2.12339111]\n",
      "\n"
     ]
    }
   ],
   "source": [
    "# NumPy operations\n",
    "dataCount = 24\n",
    "\n",
    "data = np.random.uniform(low=0, high=10, size=dataCount)\n",
    "print(f\"Data: \\n{data}\\n\")\n",
    "\n",
    "indices = np.random.choice(data.shape[0], 5, replace=False)\n",
    "print(f\"Indices: \\n{indices}\\n\")\n",
    "\n",
    "print(f\"Selected Data: \\n{data[indices]}\\n\")"
   ]
  },
  {
   "cell_type": "code",
   "execution_count": 15,
   "id": "158fe482",
   "metadata": {},
   "outputs": [
    {
     "name": "stdout",
     "output_type": "stream",
     "text": [
      "Data: \n",
      "[0.5979867  0.21026528 0.84115803 0.6577226  0.2851386  0.09847593\n",
      " 0.9034562  0.2376492  0.29771054 0.11016846 0.7843586  0.8114835\n",
      " 0.06177711 0.68540204 0.58411586 0.11118042 0.37108076 0.2822057\n",
      " 0.63202393 0.17878354 0.68082535 0.38166535 0.6973717  0.19180739]\n",
      "\n",
      "indices: \n",
      "[ 3 19 17 12 18]\n",
      "\n",
      "Selected data:  tf.Tensor([0.6577226  0.17878354 0.2822057  0.06177711 0.63202393], shape=(5,), dtype=float32)\n"
     ]
    }
   ],
   "source": [
    "# TensorFlow\n",
    "data = tf.random.uniform(shape=[dataCount])\n",
    "print(f\"Data: \\n{data}\\n\")\n",
    "\n",
    "indices = tf.random.uniform([5], minval=0, maxval=dataCount-1, dtype=tf.dtypes.int32)\n",
    "print(f\"indices: \\n{indices}\\n\")\n",
    "\n",
    "print(\"Selected data: \", tf.gather(data, indices))"
   ]
  },
  {
   "cell_type": "code",
   "execution_count": null,
   "id": "7abbb984",
   "metadata": {},
   "outputs": [
    {
     "name": "stdout",
     "output_type": "stream",
     "text": [
      "Data: \n",
      "[[-1.0249771  -0.4743215   0.12543245]\n",
      " [-0.3928874   0.5755369   0.30391353]\n",
      " [-0.359117    0.57461834 -1.0656015 ]\n",
      " [ 1.3170768  -0.6647772  -0.837381  ]\n",
      " [ 1.6496778   0.6453671   1.8788804 ]]\n",
      "\n",
      "Selected rows: \n",
      "[[-1.0249771  -0.4743215   0.12543245]\n",
      " [-0.359117    0.57461834 -1.0656015 ]\n",
      " [ 1.6496778   0.6453671   1.8788804 ]]\n",
      "\n",
      "Selected cols: \n",
      "[[-0.4743215   0.12543245]\n",
      " [ 0.5755369   0.30391353]\n",
      " [ 0.57461834 -1.0656015 ]\n",
      " [-0.6647772  -0.837381  ]\n",
      " [ 0.6453671   1.8788804 ]]\n"
     ]
    }
   ],
   "source": [
    "# Rank 2 Tensor\n",
    "tensor = tf.random.normal(shape=[5,3])\n",
    "print(f\"Data: \\n{tensor}\\n\")\n",
    "\n",
    "# Indices for the data extraction\n",
    "rows = tf.constant([0,2,4])\n",
    "cols = tf.constant([1,2])\n",
    "\n",
    "print(f\"Selected rows: \\n{tf.gather(tensor, rows, axis=0)}\")\n",
    "print(f\"\\nSelected cols: \\n{tf.gather(tensor, cols, axis=1)}\")"
   ]
  },
  {
   "cell_type": "markdown",
   "id": "e4de5591",
   "metadata": {},
   "source": [
    "### TensorFlow / NumPy Interoperability\n",
    "\n",
    "When using TensorFlow it is very common to also make use of NumPy, and it is very common to convert between NumPy and TensorFlow variables. \n",
    "\n",
    "NumPy to Tensor: `tf.convert_to_tensor(<numpy>)`\n",
    "\n",
    "Tensor to NumPy: `<tensorFlow>.numpy()` "
   ]
  },
  {
   "cell_type": "code",
   "execution_count": 25,
   "id": "6b9e2418",
   "metadata": {},
   "outputs": [
    {
     "name": "stdout",
     "output_type": "stream",
     "text": [
      "Python List\n",
      "[5, 7]\n",
      "Tensor from List\n",
      "tf.Tensor([5 7], shape=(2,), dtype=int32)\n",
      "NumPy from Tensor\n",
      "[5 7]\n",
      "\n",
      "NumPy Array\n",
      "[12 25]\n",
      "Tensor from array\n",
      "tf.Tensor([12 25], shape=(2,), dtype=int64)\n",
      "NumPy from Tensor\n",
      "[12 25]\n"
     ]
    }
   ],
   "source": [
    "pythonList = [5,7]\n",
    "\n",
    "# Tensor from list\n",
    "tensor_from_list = tf.convert_to_tensor(pythonList)\n",
    "\n",
    "# NumPy array from Tensor\n",
    "array_from_tensor = tensor_from_list.numpy()\n",
    "\n",
    "print(\"Python List\")\n",
    "print(pythonList)\n",
    "print(\"Tensor from List\")\n",
    "print(tensor_from_list)\n",
    "print(\"NumPy from Tensor\")\n",
    "print(array_from_tensor)\n",
    "\n",
    "numpyArray = np.array([12,25])\n",
    "# Tensor from NumPy array\n",
    "tensor_from_array = tf.convert_to_tensor(numpyArray)\n",
    "\n",
    "# NumPy array from Tensor\n",
    "array_from_tensor = tensor_from_array.numpy()\n",
    "\n",
    "print(\"\\nNumPy Array\")\n",
    "print(numpyArray)\n",
    "print(\"Tensor from array\")\n",
    "print(tensor_from_array)\n",
    "print(\"NumPy from Tensor\")\n",
    "print(array_from_tensor)"
   ]
  }
 ],
 "metadata": {
  "kernelspec": {
   "display_name": ".tkVenv (3.12.10)",
   "language": "python",
   "name": "python3"
  },
  "language_info": {
   "codemirror_mode": {
    "name": "ipython",
    "version": 3
   },
   "file_extension": ".py",
   "mimetype": "text/x-python",
   "name": "python",
   "nbconvert_exporter": "python",
   "pygments_lexer": "ipython3",
   "version": "3.12.10"
  }
 },
 "nbformat": 4,
 "nbformat_minor": 5
}
