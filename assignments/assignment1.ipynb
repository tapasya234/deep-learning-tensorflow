{
 "cells": [
  {
   "cell_type": "markdown",
   "metadata": {
    "deletable": false,
    "editable": false,
    "nbgrader": {
     "grade": false,
     "locked": true,
     "solution": false
    }
   },
   "source": [
    "<h1 style=“font-size:30px;“>TensorFlow Assignment</h1>\n",
    "\n",
    "Here, you have to implement Leaky ReLu, Sigmoid and Convolution, using TensorFlow, same as you did in the NumPy assignment."
   ]
  },
  {
   "cell_type": "markdown",
   "metadata": {
    "deletable": false,
    "editable": false,
    "nbgrader": {
     "grade": false,
     "locked": true,
     "solution": false
    }
   },
   "source": [
    "### Maximum Points: 30\n",
    "\n",
    "<div>\n",
    "    <table>\n",
    "        <tr><td><h3>Section</h3></td> <td><h3>Problem</h3></td> <td><h3>Points</h3></td> </tr>\n",
    "        <tr><td><h3>1</h3></td> <td><h3>Leaky ReLU Implementation</h3></td> <td><h3>5</h3></td> </tr>\n",
    "        <tr><td><h3>2</h3></td> <td><h3>Sigmoid Implementation</h3></td> <td><h3>10</h3></td> </tr>\n",
    "        <tr><td><h3>3</h3></td> <td><h3>Convolution Implementation</h3></td> <td><h3>15</h3></td> </tr>\n",
    "    </table>\n",
    "</div>"
   ]
  },
  {
   "cell_type": "code",
   "execution_count": 210,
   "metadata": {
    "collapsed": true,
    "deletable": false,
    "editable": false,
    "id": "iVGh7tVfVFg3",
    "nbgrader": {
     "grade": false,
     "locked": true,
     "solution": false
    }
   },
   "outputs": [],
   "source": [
    "from typing import Tuple\n",
    "\n",
    "import matplotlib.pyplot as plt\n",
    "import numpy as np\n",
    "import tensorflow as tf"
   ]
  },
  {
   "cell_type": "code",
   "execution_count": 211,
   "metadata": {},
   "outputs": [
    {
     "data": {
      "text/plain": [
       "'2.20.0'"
      ]
     },
     "execution_count": 211,
     "metadata": {},
     "output_type": "execute_result"
    }
   ],
   "source": [
    "tf.__version__"
   ]
  },
  {
   "cell_type": "code",
   "execution_count": 212,
   "metadata": {
    "collapsed": true,
    "deletable": false,
    "editable": false,
    "nbgrader": {
     "grade": false,
     "locked": true,
     "solution": false
    }
   },
   "outputs": [],
   "source": [
    "block_plot = False"
   ]
  },
  {
   "cell_type": "markdown",
   "metadata": {
    "deletable": false,
    "editable": false,
    "id": "5jYMtcDvcFFv",
    "nbgrader": {
     "grade": false,
     "locked": true,
     "solution": false
    }
   },
   "source": [
    "## 1 Leaky ReLU [5 Points]\n",
    "\n",
    "<img src='https://learnopencv.com/wp-content/uploads/2022/02/c4_01_leaky_relu.png' width=600 align=‘center’><br/>\n",
    "\n",
    "This is how you implement **Leaky ReLU**:\n",
    "\n",
    "\n",
    "$$\n",
    "if x < 0, f(x) = x * α, else f(x) = x\n",
    "$$\n",
    "\n",
    "\n",
    "For the following input:\n",
    "\n",
    "$$\n",
    "x = [-0.7329559\\;1.23146666]\\;,\\alpha=0.03\n",
    "$$\n",
    "\n",
    "LeakyReLU will return:\n",
    "\n",
    "$$\n",
    "[-0.02198867\\;1.2314667]\n",
    "$$"
   ]
  },
  {
   "cell_type": "code",
   "execution_count": 213,
   "metadata": {
    "collapsed": true,
    "id": "AV_eLrS3Wg5V"
   },
   "outputs": [],
   "source": [
    "def leaky_relu(in_tensor: tf.Tensor, alpha: tf.float32) -> tf.Tensor:\n",
    "\n",
    "    \"\"\"\n",
    "    leaky_relu\n",
    "\n",
    "    x >= 0 -> f(x) = x\n",
    "    x < 0 -> f(x) = alpha * x\n",
    "\n",
    "    Parameters\n",
    "\n",
    "    array: Input array.\n",
    "    alpha: Slope for the activation\n",
    "            when input is negative.\n",
    "\n",
    "    Returns:\n",
    "\n",
    "    Returns an array having same shape as input.\n",
    "    \"\"\"\n",
    "\n",
    "    indices = tf.where(in_tensor < 0)\n",
    "    values = tf.gather_nd(in_tensor, indices=indices)\n",
    "    updates = values * alpha\n",
    "    ###\n",
    "    ### YOUR CODE HERE\n",
    "    ###\n",
    "    result = tf.tensor_scatter_nd_update(in_tensor, indices, updates)\n",
    "\n",
    "    return result"
   ]
  },
  {
   "cell_type": "code",
   "execution_count": 214,
   "metadata": {
    "deletable": false,
    "editable": false,
    "nbgrader": {
     "grade": false,
     "locked": true,
     "solution": false
    }
   },
   "outputs": [
    {
     "name": "stdout",
     "output_type": "stream",
     "text": [
      "Input tensor: [[-0.7329559  1.2314667]\n",
      " [ 1.2314667 -0.7329559]]\n",
      "Result: [[-0.02198867  1.2314667 ]\n",
      " [ 1.2314667  -0.02198867]]\n"
     ]
    }
   ],
   "source": [
    "inTensor = tf.constant([[-0.7329559, 1.23146666],[1.23146666, -0.7329559]])\n",
    "outTensor = leaky_relu(inTensor, 0.03)\n",
    "\n",
    "print(f\"Input tensor: {inTensor}\")\n",
    "print(f\"Result: {outTensor}\")"
   ]
  },
  {
   "cell_type": "code",
   "execution_count": 215,
   "metadata": {
    "collapsed": true,
    "deletable": false,
    "editable": false,
    "nbgrader": {
     "grade": true,
     "grade_id": "Leaky ReLU ",
     "locked": true,
     "points": "5",
     "solution": false
    }
   },
   "outputs": [],
   "source": [
    "###\n",
    "### AUTOGRADER TEST - DO NOT REMOVE\n",
    "###\n"
   ]
  },
  {
   "cell_type": "markdown",
   "metadata": {
    "deletable": false,
    "editable": false,
    "id": "if6p6morcFF4",
    "nbgrader": {
     "grade": false,
     "locked": true,
     "solution": false
    }
   },
   "source": [
    "## 2 Sigmoid [10 Points]\n",
    "\n",
    "<img src='https://learnopencv.com/wp-content/uploads/2022/02/c4_01_sigmoid.png' width=600 align=‘center’>\n",
    "\n",
    "Next, we implement **Sigmoid**:\n",
    "\n",
    "\n",
    "$$\\frac{1}{1 + e^{-x}}$$\n",
    "\n",
    "\n",
    "For the given input:\n",
    "\n",
    "$$\n",
    "[-2.39537836\\;-0.09620075]\n",
    "$$\n",
    "\n",
    "Sigmoid returns:\n",
    "\n",
    "$$\n",
    "[0.08352581\\;0.47596836]\n",
    "$$"
   ]
  },
  {
   "cell_type": "code",
   "execution_count": 216,
   "metadata": {
    "collapsed": true,
    "id": "E-ZoftNldM2r"
   },
   "outputs": [],
   "source": [
    "def sigmoid(in_tensor: tf.Tensor) -> tf.Tensor:\n",
    "\n",
    "    \"\"\"\n",
    "    sigmoid\n",
    "\n",
    "    f(x) = 1 / (1 + e^-x)\n",
    "\n",
    "    Parameters\n",
    "\n",
    "    array: Input array.\n",
    "\n",
    "    Returns\n",
    "\n",
    "    Returns an array having the same shape as input array.\n",
    "    \"\"\"\n",
    "    sig_cal = None\n",
    "    \n",
    "    sig_cal = 1 / (1 + tf.math.exp(-in_tensor))\n",
    "    \n",
    "    ###\n",
    "    ### YOUR CODE HERE\n",
    "    ###\n",
    "    \n",
    "    return sig_cal"
   ]
  },
  {
   "cell_type": "code",
   "execution_count": 217,
   "metadata": {
    "deletable": false,
    "editable": false,
    "nbgrader": {
     "grade": false,
     "locked": true,
     "solution": false
    }
   },
   "outputs": [
    {
     "name": "stdout",
     "output_type": "stream",
     "text": [
      "Input tensor: [-2.3953784  -0.09620075]\n",
      "Result: [0.08352581 0.47596836]\n"
     ]
    }
   ],
   "source": [
    "inTensor = tf.constant([-2.39537836, -0.09620075])\n",
    "outTensor = sigmoid(inTensor)\n",
    "\n",
    "print(f\"Input tensor: {inTensor}\")\n",
    "print(f\"Result: {outTensor}\")"
   ]
  },
  {
   "cell_type": "code",
   "execution_count": 218,
   "metadata": {
    "collapsed": true,
    "deletable": false,
    "editable": false,
    "nbgrader": {
     "grade": true,
     "grade_id": "Sigmoid",
     "locked": true,
     "points": "10",
     "solution": false
    }
   },
   "outputs": [],
   "source": [
    "###\n",
    "### AUTOGRADER TEST - DO NOT REMOVE\n",
    "###\n"
   ]
  },
  {
   "cell_type": "markdown",
   "metadata": {
    "deletable": false,
    "editable": false,
    "id": "wYuJMtKFcFF9",
    "nbgrader": {
     "grade": false,
     "locked": true,
     "solution": false
    }
   },
   "source": [
    "## 3 The Convolution Operation [10 Points]\n",
    "\n",
    "Today, Convolutional Neural Networks (CNNs) are among the most widely-used architectures in the field of Computer Vision. One of the most fundamental operations performed in CNNs is the **Convolution Operation**.\n",
    "\n",
    "**Now, what is a convolution operation?**\n",
    "\n",
    "A convolution operation is the element-wise multiplication, of a \"kernel\" (or filter) with a region of an input image, followed by a summing operation, performed iteratively on the whole image.\n",
    "\n",
    "This illustration will make things more clear. Assume that your input is a 2D array, of size `5 x 5`, having the following values:\n",
    "\n",
    "\n",
    "\\begin{bmatrix}\n",
    "7 & 2 & 3 & 3 & 8\\\\\n",
    "4 & 5 & 3 & 8 & 4\\\\\n",
    "3 & 3 & 2 & 8 & 4\\\\\n",
    "2 & 8 & 7 & 2 & 7\\\\\n",
    "5 & 4 & 4 & 5 & 4\n",
    "\\end{bmatrix}\n",
    "\n",
    "And the kernel is of size `3 x 3`, with values:\n",
    "\n",
    "\\begin{bmatrix}\n",
    "1 & 0 & -1 \\\\\n",
    "1 & 0 & -1 \\\\\n",
    "1 & 0 & -1 \\\\\n",
    "\\end{bmatrix}\n",
    "\n",
    "The convolution operation of this kernel with the 2D input array is summarized in the followinf steps.\n",
    "\n",
    "### **Step 1:**\n",
    "<img src = 'https://learnopencv.com/wp-content/uploads/2022/01/c4_01_cnn_conv_step_1.jpg' width=800 align='center'><br/>\n",
    "\n",
    "### **Step 2:**\n",
    "<img src = 'https://learnopencv.com/wp-content/uploads/2022/01/c4_01_cnn_conv_step_2.jpg' width=800 align='center'><br/>\n",
    "\n",
    "### **Step 3:**\n",
    "<img src = 'https://learnopencv.com/wp-content/uploads/2022/01/c4_01_cnn_conv_step_3.jpg' width=800 align='center'><br/>\n",
    "\n",
    "### **Step 4:**\n",
    "<img src = 'https://learnopencv.com/wp-content/uploads/2022/01/c4_01_cnn_conv_step_4.jpg' width=800 align='center'><br/>\n",
    "\n",
    "In the above figures, **`*`** represents the convolution operation. Continue these series of operations untill we get the final output, as shown below: \n",
    "\n",
    "<img src = 'https://learnopencv.com/wp-content/uploads/2022/01/c4_01_cnn_conv_output.jpg' width=200 align='center'><br/>\n",
    "     \n",
    "\n",
    "In general, the size of the output after the Convolution operation is given by the formula:\n",
    "\n",
    "$$\n",
    "\\lfloor{\\frac{n + 2p - k}{s}}\\rfloor + 1\n",
    "$$ \n",
    "\n",
    "where `n` = Input shape, `p` = padding , `k`= kernel_size and `s` = stride;\n",
    "\n",
    "\n",
    "**Note: For this assignment, you need not worry about the padding and stride. We have kept them at `0` and `1` respectively.**\n",
    "\n",
    "**So, here, the output shape is given by: $$n - k + 1$$**\n",
    "\n",
    "Taking the above example as a reference, we have `n = 5` and `k = 3`. Therefore, the output shape is given by:\n",
    "`5 - 3 + 1 = 3`. Thus the output shape is a `3 x 3` square matrix."
   ]
  },
  {
   "cell_type": "markdown",
   "metadata": {
    "deletable": false,
    "editable": false,
    "nbgrader": {
     "grade": false,
     "locked": true,
     "solution": false
    }
   },
   "source": [
    "In the following section, you will be implementing the Convolution operation.\n",
    "\n",
    "**Again, to simplify things for you, we will be dealing only with square matrices  here.**\n",
    "\n",
    "\n",
    "For this, you may find the [tensor_scatter_nd_update](https://www.tensorflow.org/api_docs/python/tf/tensor_scatter_nd_update), [reduce_sum](https://www.tensorflow.org/api_docs/python/tf/math/reduce_sum), [multiply](https://www.tensorflow.org/api_docs/python/tf/math/multiply) and [expand_dims](https://www.tensorflow.org/api_docs/python/tf/expand_dims) functions useful."
   ]
  },
  {
   "cell_type": "code",
   "execution_count": 219,
   "metadata": {
    "collapsed": true
   },
   "outputs": [],
   "source": [
    "def convolve(\n",
    "    in_tensor: tf.Tensor,\n",
    "    kernel: tf.Tensor,\n",
    "    verbose: bool = False,\n",
    ") -> tf.Tensor:\n",
    "\n",
    "    \"\"\"\n",
    "    convolve\n",
    "\n",
    "    Parameters\n",
    "\n",
    "    input_array: Array on which convolution is done.\n",
    "    output_image: Placeholder array for output.\n",
    "    kernel: Kernel/ Filter.\n",
    "    \n",
    "    Returns\n",
    "\n",
    "    Convolved array.\n",
    "    \"\"\"\n",
    "    \n",
    "    inshape = in_tensor.shape\n",
    "    kshape = kernel.shape\n",
    "\n",
    "    output_array = tf.Variable(tf.zeros((inshape[0] - kshape[0] + 1, inshape[1] - kshape[1] + 1), dtype=tf.int32))\n",
    "    outshape = output_array.shape\n",
    "\n",
    "    for i in range(0, inshape[0]):\n",
    "        for j in range(0, inshape[1]):\n",
    "            try:\n",
    "                if i >= outshape[0] or j >= outshape[1]:\n",
    "                    continue\n",
    "\n",
    "                value = tf.reduce_sum(tf.multiply(in_tensor[i:i+kshape[0], j:j+kshape[1]],kernel))\n",
    "                reshapedValue = tf.reshape(value, shape=[1])\n",
    "                output_array = tf.tensor_scatter_nd_update(output_array, \n",
    "                                                 indices=[[i, j]], \n",
    "                                                 updates=reshapedValue,)\n",
    "                \n",
    "                ###\n",
    "                ### YOUR CODE HERE\n",
    "                ###\n",
    "            \n",
    "            except Exception as exception:\n",
    "                raise exception\n",
    "\n",
    "    return output_array"
   ]
  },
  {
   "cell_type": "markdown",
   "metadata": {
    "deletable": false,
    "editable": false,
    "nbgrader": {
     "grade": false,
     "locked": true,
     "solution": false
    }
   },
   "source": [
    "**Running the code cell below, you should get the following output:**\n",
    "\n",
    "```\n",
    "Output array:\n",
    "tf.Tensor(\n",
    "[[ 6 -9 -8]\n",
    " [-3 -2 -3]\n",
    " [-3  0 -2]], shape=(3, 3), dtype=int32)\n",
    " \n",
    "```"
   ]
  },
  {
   "cell_type": "code",
   "execution_count": 220,
   "metadata": {
    "deletable": false,
    "editable": false,
    "nbgrader": {
     "grade": false,
     "locked": true,
     "solution": false
    }
   },
   "outputs": [
    {
     "name": "stdout",
     "output_type": "stream",
     "text": [
      "Output array:\n",
      "tf.Tensor(\n",
      "[[ 6 -9 -8]\n",
      " [-3 -2 -3]\n",
      " [-3  0 -2]], shape=(3, 3), dtype=int32)\n"
     ]
    }
   ],
   "source": [
    "kernel = tf.constant([[1, 0, -1], [1, 0, -1], [1, 0, -1]])\n",
    "\n",
    "input_array = tf.constant([[7,2,3,3,8],[4,5,3,8,4],[3,3,2,8,4],[2,8,7,2,7],[5,4,4,5,4]])\n",
    "ouput_array = convolve(input_array, kernel)\n",
    "\n",
    "print(f\"Output array:\")\n",
    "print(ouput_array)"
   ]
  },
  {
   "cell_type": "code",
   "execution_count": 221,
   "metadata": {
    "collapsed": true,
    "deletable": false,
    "editable": false,
    "nbgrader": {
     "grade": true,
     "grade_id": "Convolution implementation",
     "locked": true,
     "points": "15",
     "solution": false
    }
   },
   "outputs": [],
   "source": [
    "###\n",
    "### AUTOGRADER TEST - DO NOT REMOVE\n",
    "###\n"
   ]
  },
  {
   "cell_type": "markdown",
   "metadata": {
    "deletable": false,
    "editable": false,
    "nbgrader": {
     "grade": false,
     "locked": true,
     "solution": false
    }
   },
   "source": [
    "### 4 Applications of CNNs\n",
    "\n",
    "CNNs are excellent for determining the spatial information of the input images, such as edges, gradients etc. We will use the above `convolve()` function to show you how it can determine both vertical and horizontal edges of a given input image. To generate the vertical edges of an image, we place high values on one vertical half and low values on the other."
   ]
  },
  {
   "cell_type": "code",
   "execution_count": 222,
   "metadata": {
    "collapsed": true,
    "deletable": false,
    "editable": false,
    "id": "_aSTOqTd82sp",
    "nbgrader": {
     "grade": false,
     "locked": true,
     "solution": false
    }
   },
   "outputs": [],
   "source": [
    "def create_vertical_edge_image(dsize: Tuple = (64, 64)) -> tf.Tensor:\n",
    "\n",
    "    \"\"\"\n",
    "    create_vertical_edge_image\n",
    "\n",
    "    A vertical edged test image is created.\n",
    "    For input dsize=(4, 4), the below array\n",
    "    is returned.\n",
    "\n",
    "    [255 255 0 0\n",
    "     255 255 0 0\n",
    "     255 255 0 0]\n",
    "\n",
    "    Parameters\n",
    "    ----------\n",
    "\n",
    "    dsize: Shape of the image to create. The\n",
    "    shape is of the form (height, width).\n",
    "\n",
    "    Returns\n",
    "    -------\n",
    "\n",
    "    A numpy array with shape dsize\n",
    "    \"\"\"\n",
    "\n",
    "    height, width = dsize\n",
    "    zeros = tf.zeros((height, width // 2))\n",
    "    whites = tf.ones(dsize) * 255\n",
    "    indices = tf.where(zeros == 0)\n",
    "    updates = tf.gather_nd(whites, indices=indices)\n",
    "    result = tf.scatter_nd(indices, updates, dsize)\n",
    "\n",
    "    return result"
   ]
  },
  {
   "cell_type": "code",
   "execution_count": 223,
   "metadata": {
    "collapsed": true,
    "deletable": false,
    "editable": false,
    "nbgrader": {
     "grade": false,
     "locked": true,
     "solution": false
    }
   },
   "outputs": [
    {
     "data": {
      "image/png": "[encoded data removed]",
      "text/plain": [
       "<Figure size 640x480 with 1 Axes>"
      ]
     },
     "metadata": {},
     "output_type": "display_data"
    }
   ],
   "source": [
    "input_image = tf.cast(create_vertical_edge_image(), tf.int32)\n",
    "\n",
    "plt.imshow(input_image.numpy(), cmap=\"gray\")\n",
    "plt.show(block=block_plot)"
   ]
  },
  {
   "cell_type": "code",
   "execution_count": 224,
   "metadata": {
    "collapsed": true
   },
   "outputs": [
    {
     "data": {
      "image/png": "[encoded data removed]",
      "text/plain": [
       "<Figure size 640x480 with 1 Axes>"
      ]
     },
     "metadata": {},
     "output_type": "display_data"
    }
   ],
   "source": [
    "vertical_kernel = tf.constant([[1, 0, -1], [1, 0, -1], [1, 0, -1]])\n",
    "\n",
    "vertical_edge = convolve(input_image, vertical_kernel)\n",
    "\n",
    "plt.imshow(vertical_edge.numpy(), cmap=\"gray\")\n",
    "plt.show(block=block_plot)"
   ]
  },
  {
   "cell_type": "markdown",
   "metadata": {
    "deletable": false,
    "editable": false,
    "nbgrader": {
     "grade": false,
     "locked": true,
     "solution": false
    }
   },
   "source": [
    "As you can see, we could successfully determine the vertical edges for the `test_image`. Now let’s use the convolution function to determine the horizontal edges as well. Similarly, to generate the horizontal edges of an  image, we will place high values on one horizontal half and low values on the other."
   ]
  },
  {
   "cell_type": "code",
   "execution_count": 225,
   "metadata": {
    "collapsed": true,
    "deletable": false,
    "editable": false,
    "id": "CdrggNed8y2p",
    "nbgrader": {
     "grade": false,
     "locked": true,
     "solution": false
    }
   },
   "outputs": [],
   "source": [
    "def create_horizontal_edge_image(dsize: Tuple = (64, 64)) -> tf.Tensor:\n",
    "\n",
    "    \"\"\"\n",
    "    create_vertical_edge_image\n",
    "\n",
    "    A vertical edged test image is created.\n",
    "    For input dsize=(4, 4), the below array\n",
    "    is returned.\n",
    "\n",
    "    [255 255 255 255\n",
    "     255 255 255 255\n",
    "     000 000 000 000\n",
    "     000 000 000 000]\n",
    "\n",
    "    Parameters\n",
    "    ----------\n",
    "\n",
    "    dsize: Shape of the image to create. The\n",
    "    shape is of the form (height, width).\n",
    "\n",
    "    Returns\n",
    "    -------\n",
    "\n",
    "    A numpy array with shape dsize\n",
    "    \"\"\"\n",
    "\n",
    "    height, width = dsize\n",
    "    zeros = tf.zeros((width // 2, height))\n",
    "    whites = tf.ones(dsize) * 255\n",
    "    indices = tf.where(zeros == 0)\n",
    "    updates = tf.gather_nd(whites, indices=indices)\n",
    "    result = tf.scatter_nd(indices, updates, dsize)\n",
    "\n",
    "    return result"
   ]
  },
  {
   "cell_type": "code",
   "execution_count": 226,
   "metadata": {
    "collapsed": true,
    "deletable": false,
    "editable": false,
    "nbgrader": {
     "grade": false,
     "locked": true,
     "solution": false
    }
   },
   "outputs": [
    {
     "data": {
      "image/png": "[encoded data removed]",
      "text/plain": [
       "<Figure size 640x480 with 1 Axes>"
      ]
     },
     "metadata": {},
     "output_type": "display_data"
    }
   ],
   "source": [
    "input_image = tf.cast(create_horizontal_edge_image(), tf.int32)\n",
    "\n",
    "plt.imshow(input_image.numpy(), cmap=\"gray\")\n",
    "plt.show(block=block_plot)"
   ]
  },
  {
   "cell_type": "code",
   "execution_count": 227,
   "metadata": {
    "collapsed": true
   },
   "outputs": [
    {
     "data": {
      "image/png": "[encoded data removed]",
      "text/plain": [
       "<Figure size 640x480 with 1 Axes>"
      ]
     },
     "metadata": {},
     "output_type": "display_data"
    }
   ],
   "source": [
    "horizontal_kernel = tf.constant([[1, 1, 1], [0, 0, 0], [-1, -1, -1]])\n",
    "horizontal_edge = convolve(input_image, horizontal_kernel)\n",
    "\n",
    "plt.imshow(horizontal_edge.numpy(), cmap=\"gray\")\n",
    "plt.show(block=block_plot)"
   ]
  },
  {
   "cell_type": "code",
   "execution_count": null,
   "metadata": {
    "collapsed": true
   },
   "outputs": [],
   "source": []
  }
 ],
 "metadata": {
  "colab": {
   "collapsed_sections": [],
   "name": "TendorFlow_Assignment_01_15.ipynb",
   "private_outputs": true,
   "provenance": []
  },
  "kernelspec": {
   "display_name": ".tkVenv (3.12.10)",
   "language": "python",
   "name": "python3"
  },
  "language_info": {
   "codemirror_mode": {
    "name": "ipython",
    "version": 3
   },
   "file_extension": ".py",
   "mimetype": "text/x-python",
   "name": "python",
   "nbconvert_exporter": "python",
   "pygments_lexer": "ipython3",
   "version": "3.12.10"
  },
  "latex_envs": {
   "LaTeX_envs_menu_present": true,
   "autoclose": false,
   "autocomplete": true,
   "bibliofile": "biblio.bib",
   "cite_by": "apalike",
   "current_citInitial": 1,
   "eqLabelWithNumbers": true,
   "eqNumInitial": 1,
   "hotkeys": {
    "equation": "Ctrl-E",
    "itemize": "Ctrl-I"
   },
   "labels_anchors": false,
   "latex_user_defs": false,
   "report_style_numbering": false,
   "user_envs_cfg": false
  },
  "toc": {
   "base_numbering": 1,
   "nav_menu": [],
   "number_sections": false,
   "sideBar": true,
   "skip_h1_title": false,
   "title_cell": "Table of Contents",
   "title_sidebar": "Contents",
   "toc_cell": false,
   "toc_position": [],
   "toc_section_display": true,
   "toc_window_display": false
  },
  "varInspector": {
   "cols": {
    "lenName": 16,
    "lenType": 16,
    "lenVar": 40
   },
   "kernels_config": {
    "python": {
     "delete_cmd_postfix": "",
     "delete_cmd_prefix": "del ",
     "library": "var_list.py",
     "varRefreshCmd": "print(var_dic_list())"
    },
    "r": {
     "delete_cmd_postfix": ") ",
     "delete_cmd_prefix": "rm(",
     "library": "var_list.r",
     "varRefreshCmd": "cat(var_dic_list()) "
    }
   },
   "types_to_exclude": [
    "module",
    "function",
    "builtin_function_or_method",
    "instance",
    "_Feature"
   ],
   "window_display": false
  }
 },
 "nbformat": 4,
 "nbformat_minor": 4
}
